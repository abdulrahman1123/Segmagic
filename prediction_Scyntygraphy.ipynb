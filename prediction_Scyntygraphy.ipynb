{
 "cells": [
  {
   "cell_type": "markdown",
   "metadata": {},
   "source": [
    "### Prediction on new data\n",
    "#### execute only this cell if you want to predict image segmentations with an already trained model\n",
    "#### base_path and labels need to be defined\n",
    "#### results are stored under 'folder'_pred"
   ]
  },
  {
   "cell_type": "code",
   "execution_count": 8,
   "metadata": {},
   "outputs": [
    {
     "data": {
      "application/vnd.jupyter.widget-view+json": {
       "model_id": "fac6f4de1c4c4952a923b4fe5dfc69f3",
       "version_major": 2,
       "version_minor": 0
      },
      "text/plain": [
       "0it [00:00, ?it/s]"
      ]
     },
     "metadata": {},
     "output_type": "display_data"
    }
   ],
   "source": [
    "from segmagic_ml import Segmagic\n",
    "# in base_path, the model(s) to use should be in a folder called \"model\"\n",
    "# names of labels need to be defined, you can give it any name you want. Should be the same length as the number of labels in the model.\n",
    "base_path = r\"\\\\klinik.uni-wuerzburg.de\\homedir\\userdata11\\Sawalma_A\\data\\Documents\\opg paper\\Segmagic\"\n",
    "seg = Segmagic(base_path)\n",
    "labels = ['foot']\n",
    "#chose image to predict\n",
    "folder = r\"\\\\klinik.uni-wuerzburg.de\\homedir\\userdata11\\Sawalma_A\\data\\Documents\\opg paper\\Segmagic\\foot_images\"\n",
    "seg.predict_folder(folder,labels,show=True)"
   ]
  }
 ],
 "metadata": {
  "kernelspec": {
   "display_name": "Python 3",
   "language": "python",
   "name": "python3"
  },
  "language_info": {
   "codemirror_mode": {
    "name": "ipython",
    "version": 3
   },
   "file_extension": ".py",
   "mimetype": "text/x-python",
   "name": "python",
   "nbconvert_exporter": "python",
   "pygments_lexer": "ipython3",
   "version": "3.11.4"
  }
 },
 "nbformat": 4,
 "nbformat_minor": 2
}
